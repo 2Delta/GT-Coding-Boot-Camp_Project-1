{
 "cells": [
  {
   "cell_type": "code",
   "execution_count": null,
   "id": "292ded03",
   "metadata": {},
   "outputs": [],
   "source": [
    "# dependecies\n",
    "import pandas as pd\n",
    "import matplotlib.pyplot as plt\n",
    "import numpy as np\n",
    "import scipy.stats as st\n",
    "from scipy.stats import linregress\n",
    "from statsmodels.tsa.holtwinters import ExponentialSmoothing as ETS\n",
    "from statsmodels.tools.eval_measures import mse\n",
    "from statsmodels.tools.eval_measures import meanabs"
   ]
  },
  {
   "cell_type": "code",
   "execution_count": null,
   "id": "579aa5a5",
   "metadata": {},
   "outputs": [],
   "source": [
    "# filepath\n",
    "path_1 = \"Data/BicycleSales_2015-20211021_Cleaned.xlsx\"\n",
    "path_2 = \"Data/BikeSpecs.xlsx\"\n",
    "\n",
    "# read data\n",
    "sales_df = pd.read_excel(path_1)\n",
    "specs_df = pd.read_excel(path_2)"
   ]
  },
  {
   "cell_type": "code",
   "execution_count": null,
   "id": "1f50c6fc",
   "metadata": {},
   "outputs": [],
   "source": [
    "# rename specs Object column to Material\n",
    "specs1_df = specs_df.rename(columns={\"Object\":\"Material\"})\n",
    "\n",
    "# merge specs into sales data frame\n",
    "merged_df = pd.merge(sales_df, specs1_df, on=\"Material\", how=\"left\")"
   ]
  },
  {
   "cell_type": "code",
   "execution_count": null,
   "id": "9b4508c9",
   "metadata": {},
   "outputs": [],
   "source": [
    "# reduce down to necessary columns\n",
    "reduced_df = merged_df[[\"Material\", \"Sold-to pt\", \"Month\", \"Invoiced Quantity\", \n",
    "                        \"Product hierarchy.1\", \"Application_x\", \"Tire Size\", \"Ply Construction\",\n",
    "                        \"Bead\", \"Color\", \"TPI - Threads per inch\", \"Compound\", \"Technology\"\n",
    "                       ]]\n",
    "\n",
    "# rename columns\n",
    "reduced_df = reduced_df.rename(columns={\"Product hierarchy.1\":\"Product hierarchy\",\n",
    "                                        \"Application_x\":\"Application\"})\n",
    "\n",
    "# split tire size by diameter (before x) and width (after x)\n",
    "reduced_df[[\"Diameter\", \"Width\"]] = reduced_df[\"Tire Size\"].str.split(\"X\", n=1, expand=True)\n",
    "\n",
    "# splite Month into separate month and year components\n",
    "reduced_df[[\"Month\", \"Year\"]] = reduced_df[\"Month\"].str.split(\"/\", n=1, expand=True)\n",
    "\n",
    "# create Date column with reordered Year/Date format\n",
    "reduced_df[\"Date\"] = reduced_df[\"Year\"] + \"/\" + reduced_df[\"Month\"]\n",
    "\n",
    "# strip erroneous text from diameter and width\n",
    "reduced_df[\"Diameter\"] = reduced_df[\"Diameter\"].str.replace(r'\"','')\n",
    "reduced_df[\"Width\"] = reduced_df[\"Width\"].str.replace(r'\"','')\n",
    "\n",
    "# drop application Tubes and MVS\n",
    "reduced_df = reduced_df[reduced_df[\"Application\"].str.contains(\"TUBE|MVS\")==False]\n",
    "\n",
    "#Displaying Cleaned Dataframe\n",
    "reduced_df\n",
    "\n",
    "# Output to excel for review\n",
    "# reduced_df.to_excel('Output/output.xlsx')"
   ]
  },
  {
   "cell_type": "code",
   "execution_count": null,
   "id": "a325eab0",
   "metadata": {},
   "outputs": [],
   "source": [
    "# group by material create a time series for each material for invoiced quantity by month\n",
    "# diameter_df = reduced_df.groupby([\"Diameter\"])[[\"Diameter\", \"Month\", \"Invoiced Quantity\"]]\n",
    "# month_df = reduced_df.groupby([\"Month\"])[[\"Month\", \"Invoiced Quantity\"]]\n",
    "date_df = reduced_df.groupby([\"Date\"], as_index = False)[[\"Date\", \"Invoiced Quantity\"]].sum()                     \n",
    "\n",
    "# Prelimiary plot to quickly visualize overall\n",
    "plt.plot(date_df[\"Date\"], date_df[\"Invoiced Quantity\"])\n",
    "plt.title(\"Total sales quantity by month\")\n",
    "\n",
    "plt.show()"
   ]
  },
  {
   "cell_type": "code",
   "execution_count": null,
   "id": "b6d650fa",
   "metadata": {},
   "outputs": [],
   "source": [
    "# group by year and month then sum invoiced quantity\n",
    "year_month_df = reduced_df.groupby([\"Year\", \"Month\"],\n",
    "                                   as_index = False)[[\"Year\", \"Month\", \"Invoiced Quantity\"]].sum()\n",
    "year_month_df"
   ]
  },
  {
   "cell_type": "code",
   "execution_count": null,
   "id": "bcd3e6b8",
   "metadata": {
    "scrolled": true
   },
   "outputs": [],
   "source": [
    "# Holt Winters ETS forecasting\n",
    "\n",
    "fc_df = year_month_df\n",
    "\n",
    "fc1519_df = fc_df.loc[(fc_df['Year'] == \"2015\")|\n",
    "          (fc_df['Year'] == \"2016\")|\n",
    "          (fc_df['Year'] == \"2017\")|\n",
    "          (fc_df['Year'] == \"2018\")|\n",
    "          (fc_df['Year'] == \"2019\"), :]\n",
    "\n",
    "fit_model = ETS(fc1519_df[\"Invoiced Quantity\"],\n",
    "                           trend=\"mul\",seasonal=\"mul\",\n",
    "                           seasonal_periods=12).fit()\n",
    "\n",
    "fc2021 = fit_model.forecast(24).round()\n",
    "\n",
    "fc1519_df[\"Forecast\"] = ETS(fc1519_df[\"Invoiced Quantity\"],\n",
    "                           trend=\"mul\",seasonal=\"mul\",\n",
    "                           seasonal_periods=12).fit().fittedvalues\n",
    "\n",
    "fc1519_df[\"Forecast\"] = fc1519_df[\"Forecast\"].round()\n",
    "\n",
    "# plot the forecasted model\n",
    "fc_df[\"Invoiced Quantity\"].plot(legend=True, label=\"Historical\")\n",
    "fc2021.plot(legend=True, label=\"Predicted\")\n",
    "fc1519_df[\"Forecast\"].plot(legend=True, label=\"ETS\",\n",
    "                          title=\"Forecasted Monthly Invoiced Quantity (2015-2021)\",\n",
    "                          ylabel=\"Quantity Sold\",\n",
    "                          xlabel=\"Month\")\n",
    "\n",
    "# mean squared error and mean average error\n",
    "mse_test = mse(fc1519_df[\"Invoiced Quantity\"],fc1519_df[\"Forecast\"])\n",
    "mae_test = meanabs(fc1519_df[\"Invoiced Quantity\"],fc1519_df[\"Forecast\"])\n",
    "\n",
    "# append forecasted values onto onto model\n",
    "fc1521_df = pd.DataFrame({\"Forecast\": fc1519_df[\"Forecast\"].append(fc2021)})\n",
    "\n",
    "# merge forecasted dataframe with actual sales data frame\n",
    "fcm_df = fc_df.merge(fc1521_df, how='outer', left_index=True, right_index=True)\n",
    "\n",
    "fcm_df.at[82,\"Year\"]= \"2021\"\n",
    "fcm_df.at[83,\"Year\"]= \"2021\"\n",
    "fcm_df.at[82,\"Month\"]= \"11\"\n",
    "fcm_df.at[83,\"Month\"]= \"12\"\n",
    "\n",
    "print(f\"MSE: {mse_test}\")\n",
    "print(f\"MAE: {mae_test}\")"
   ]
  },
  {
   "cell_type": "code",
   "execution_count": null,
   "id": "4dcc4bb1",
   "metadata": {
    "scrolled": true
   },
   "outputs": [],
   "source": [
    "# Group forecasts by year\n",
    "fcm_yr_df = fcm_df.groupby([\"Year\"],\n",
    "                           as_index = False)[[\"Year\",\"Invoiced Quantity\",\"Forecast\"]].sum()\n",
    "\n",
    "fcm_yr_df\n",
    "\n",
    "# fc1519_yr_df\n",
    "\n",
    "# mse_test = mse(fc1519_yr_df[\"Invoiced Quantity\"],fc1519_yr_df[\"FC_mul\"])\n",
    "# mae_test = meanabs(fc1519_yr_df[\"Invoiced Quantity\"],fc1519_yr_df[\"FC_mul\"])\n",
    "\n",
    "# print(f\"MSE: {mse_test}\")\n",
    "# print(f\"MAE: {mae_test}\")"
   ]
  },
  {
   "cell_type": "code",
   "execution_count": null,
   "id": "28a25b0d",
   "metadata": {},
   "outputs": [],
   "source": [
    "#chi testing data from combined_year\n",
    "observed_df = [164289,166147,182019,180908]\n",
    "expected_df = [161178,164289,166147,182019]\n",
    "\n",
    "\n",
    "forcast_chi = {'year': ['2016', '2017', '2018', '2019', '2020','2021'],\n",
    "         'observed': [154639.0,161912.0,170569.0,177373.0,184502.0,192619.0], 'expected':[145656.0,152066.0,160371.0,175695.0,168569.0,315350.0]\n",
    "        }\n",
    "\n",
    "forcast_chi_df = pd.DataFrame(forcast_chi)\n",
    "\n",
    "forcast_chi_df\n"
   ]
  },
  {
   "cell_type": "code",
   "execution_count": null,
   "id": "b47929cb",
   "metadata": {},
   "outputs": [],
   "source": [
    "critical_value = st.chi2.ppf(q = 0.95, df = 2)\n",
    "critical_value"
   ]
  },
  {
   "cell_type": "code",
   "execution_count": null,
   "id": "a5f0ff3c",
   "metadata": {},
   "outputs": [],
   "source": [
    "st.chisquare(forcast_chi_df['observed'], forcast_chi_df['expected'])"
   ]
  },
  {
   "cell_type": "code",
   "execution_count": null,
   "id": "7a8068c6",
   "metadata": {},
   "outputs": [],
   "source": [
    "# Find years and months, \n",
    "# create a dataframe containing the summed quantities for each date \n",
    "# with months in rows and years in columns\n",
    "\n",
    "years = year_month_df[\"Year\"].unique()\n",
    "months = {\"Month\": year_month_df[\"Month\"].unique()}\n",
    "yearly_df = pd.DataFrame(months)\n",
    "\n",
    "for each in years:\n",
    "    df = year_month_df.loc[year_month_df['Year'] == each]\n",
    "    df = df[[\"Month\",\"Invoiced Quantity\"]]\n",
    "    df = df.rename(columns={\"Invoiced Quantity\" : each})\n",
    "    yearly_df = pd.merge(yearly_df, df, on=\"Month\", how=\"left\" )      \n",
    "\n",
    "yearly_df"
   ]
  },
  {
   "cell_type": "code",
   "execution_count": null,
   "id": "35030c1a",
   "metadata": {},
   "outputs": [],
   "source": [
    "# plot quantity by month for each year\n",
    "for each in years:\n",
    "    plt.plot(yearly_df[\"Month\"], yearly_df[each], label = each)\n",
    "\n",
    "plt.xlabel(\"Month\")\n",
    "plt.ylabel(\"Quantity\",color = \"darkcyan\")\n",
    "plt.legend(title=\"Year\")\n",
    "plt.grid()\n",
    "plt.show()"
   ]
  },
  {
   "cell_type": "code",
   "execution_count": null,
   "id": "e050842c",
   "metadata": {},
   "outputs": [],
   "source": [
    "#using .groupby() and .sum() to get the year to invoiced quantity total\n",
    "combined_year = year_month_df.groupby(['Year'])['Invoiced Quantity'].sum().reset_index()\n",
    "combined_year"
   ]
  },
  {
   "cell_type": "code",
   "execution_count": null,
   "id": "af08c5d0",
   "metadata": {},
   "outputs": [],
   "source": [
    "#dropping year 2020 and 2021 during the covid year before calculating lineregression.\n",
    "combined_year_drop = combined_year.drop([5,6])\n",
    "combined_year_drop\n"
   ]
  },
  {
   "cell_type": "code",
   "execution_count": null,
   "id": "753f065b",
   "metadata": {},
   "outputs": [],
   "source": [
    "#setting up the linear regression and line for the scatter plot\n",
    "(slope, intercept, rvalue, pvalue, stderr) = linregress(combined_year_drop[\"Year\"].astype(int),combined_year_drop[\"Invoiced Quantity\"])\n",
    "\n",
    "#arithmatic for regression\n",
    "regression_value = combined_year_drop[\"Year\"].astype(int) * slope + intercept\n",
    "#writing out the linear equation to print into the scatter plot\n",
    "linear_equ = f\"y = {round(slope, 2)} x + {round(intercept, 2)}\"\n",
    "\n",
    "#Plotting the figure and adding the line\n",
    "combined_year_drop.plot.scatter(x='Year', y='Invoiced Quantity')\n",
    "plt.plot(combined_year_drop['Year'], regression_value, color='r')\n",
    "\n",
    "print(f\"The r-squared is: {round(rvalue**2,3)}\")\n",
    "print(f\"y = {round(slope, 2)} x + {round(intercept, 2)}\")\n",
    "plt.show()"
   ]
  },
  {
   "cell_type": "code",
   "execution_count": null,
   "id": "166e4227",
   "metadata": {},
   "outputs": [],
   "source": [
    "#setting up the linear regression and line for the scatter plot for 7 years including covid\n",
    "(slope, intercept, rvalue, pvalue, stderr) = linregress(combined_year[\"Year\"].astype(int),combined_year[\"Invoiced Quantity\"])\n",
    "\n",
    "#arithmatic for regression\n",
    "regression_value = combined_year[\"Year\"].astype(int) * slope + intercept\n",
    "#writing out the linear equation to print into the scatter plot\n",
    "linear_equ = f\"y = {round(slope, 2)} x + {round(intercept, 2)}\"\n",
    "\n",
    "#Plotting the figure and adding the line\n",
    "combined_year.plot.scatter(x='Year', y='Invoiced Quantity')\n",
    "plt.plot(combined_year['Year'], regression_value, color='r')\n",
    "\n",
    "print(f\"The r-squared is: {round(rvalue**2,3)}\")\n",
    "print(f\"y = {round(slope, 2)} x + {round(intercept, 2)}\")\n",
    "plt.show()"
   ]
  },
  {
   "cell_type": "code",
   "execution_count": null,
   "id": "7d8e848c",
   "metadata": {},
   "outputs": [],
   "source": [
    "application_df = reduced_df.groupby([\"Application\",\"Year\"],\n",
    "                                   as_index = False)[[\"Application\",\"Year\",\"Invoiced Quantity\"]].sum()\n",
    "\n",
    "years = application_df[\"Year\"].unique()\n",
    "applications = {\"Application\": application_df[\"Application\"].unique()}\n",
    "application_year_df = pd.DataFrame(applications)\n",
    "\n",
    "for each in years:\n",
    "    df = application_df.loc[application_df['Year'] == each]\n",
    "    df = df[[\"Application\",\"Invoiced Quantity\"]]\n",
    "    df = df.rename(columns={\"Invoiced Quantity\" : each})\n",
    "    application_year_df = pd.merge(application_year_df, df, on=\"Application\", how=\"left\" )      \n",
    "\n",
    "application_year_df"
   ]
  },
  {
   "cell_type": "code",
   "execution_count": null,
   "id": "d94d7360",
   "metadata": {},
   "outputs": [],
   "source": [
    "application_year_df.set_index(\"Application\").plot(kind='bar',figsize=(20,10), stacked = True)\n",
    "\n",
    "plt.xlabel('Application')\n",
    "plt.ylabel('Invoiced Quantity')\n",
    "\n",
    "plt.legend(['2015',\n",
    "            '2016',\n",
    "            '2017',\n",
    "            '2018',\n",
    "            '2019',\n",
    "            '2020',\n",
    "            '2021',\n",
    "           ])\n",
    "\n",
    "plt.show()"
   ]
  },
  {
   "cell_type": "code",
   "execution_count": null,
   "id": "405e54de",
   "metadata": {},
   "outputs": [],
   "source": [
    "diameter_df = reduced_df.groupby([\"Application\",\"Diameter\",\"Year\"],\n",
    "                                   as_index = False)[[\"Application\",\"Diameter\",\"Year\",\n",
    "                                                      \"Invoiced Quantity\"]].sum()\n",
    "\n",
    "diameter_mountain_df = diameter_df.loc[diameter_df['Application'] == \"MOUNTAIN\"]\n",
    "\n",
    "diameter_mountain_df = diameter_mountain_df[[\"Diameter\",\"Year\",\"Invoiced Quantity\"]]\n",
    "\n",
    "years = diameter_mountain_df[\"Year\"].unique()\n",
    "diameters = {\"Diameter\": diameter_mountain_df[\"Diameter\"].unique()}\n",
    "diameter_year_df = pd.DataFrame(diameters)\n",
    "\n",
    "for each in years:\n",
    "    df = diameter_mountain_df.loc[diameter_mountain_df['Year'] == each]\n",
    "    df = df[[\"Diameter\",\"Invoiced Quantity\"]]\n",
    "    df = df.rename(columns={\"Invoiced Quantity\" : each})\n",
    "    diameter_year_df = pd.merge(diameter_year_df, df, on=\"Diameter\", how=\"left\" )      \n",
    "\n",
    "# diameter_year_df\n",
    "\n",
    "year_diameter_df = diameter_year_df.transpose()\n",
    "\n",
    "year_diameter_df.columns=year_diameter_df.iloc[0]\n",
    "year_diameter_df = year_diameter_df[1:]\n",
    "year_diameter_df = year_diameter_df.rename(columns={\"Diameter\":\"Year\"})\n",
    "year_diameter_df"
   ]
  },
  {
   "cell_type": "code",
   "execution_count": null,
   "id": "be9e3a42",
   "metadata": {},
   "outputs": [],
   "source": [
    "# plot quantity by diameter for each year\n",
    "#for each in years:\n",
    "    #plt.plot(diameter_year_df[\"Diameter\"], diameter_year_df[each], label = each)\n",
    "# diameter_year_df = diameter_year_df.astype(float)\n",
    "# diameter_year_df.transpose().plot(kind='bar')\n",
    "\n",
    "diameter_year_df.set_index(\"Diameter\").transpose().plot(kind='bar')\n",
    "\n",
    "plt.xlabel('Year')\n",
    "plt.ylabel('Invoiced Quantity')\n",
    "plt.title('Year vs Invoiced Quantity')\n",
    "plt.show()"
   ]
  },
  {
   "cell_type": "code",
   "execution_count": null,
   "id": "17d3bb92",
   "metadata": {},
   "outputs": [],
   "source": [
    "#Percent change usind .pct_change()\n",
    "pct_chng_diameter = diameter_year_df.set_index(\"Diameter\").transpose().pct_change().fillna(0)\n",
    "pct_chng_diameter"
   ]
  },
  {
   "cell_type": "code",
   "execution_count": null,
   "id": "3848d15c",
   "metadata": {},
   "outputs": [],
   "source": [
    "#figure of percent change\n",
    "pct_chng_diameter.plot()\n",
    "plt.xlabel('Year')\n",
    "plt.ylabel('Percent Change in Quantity')\n",
    "plt.title('Year vs Percent Change in Quantity')"
   ]
  },
  {
   "cell_type": "code",
   "execution_count": null,
   "id": "45fb7b6f",
   "metadata": {},
   "outputs": [],
   "source": [
    "#chi testing data from combined_year\n",
    "observed_df = [164289,166147,182019,180908]\n",
    "expected_df = [161178,164289,166147,182019]\n",
    "\n",
    "\n",
    "chi = {'year': ['2016', '2017', '2018', '2019', '2020','2021'],\n",
    "         'observed': [164289,166147,182019,180908,338662,242501], 'expected':[161178,164289,166147,182019,180908,338662]\n",
    "        }\n",
    "\n",
    "chi_df = pd.DataFrame(chi)\n",
    "\n",
    "chi_df\n"
   ]
  },
  {
   "cell_type": "code",
   "execution_count": null,
   "id": "9b183ae0",
   "metadata": {},
   "outputs": [],
   "source": [
    "critical_value = st.chi2.ppf(q = 0.95, df = 2)"
   ]
  },
  {
   "cell_type": "code",
   "execution_count": null,
   "id": "d70d2927",
   "metadata": {},
   "outputs": [],
   "source": [
    "critical_value"
   ]
  },
  {
   "cell_type": "code",
   "execution_count": null,
   "id": "15975614",
   "metadata": {},
   "outputs": [],
   "source": [
    "st.chisquare(chi_df['observed'], chi_df['expected'])"
   ]
  },
  {
   "cell_type": "code",
   "execution_count": null,
   "id": "77eaaf43",
   "metadata": {},
   "outputs": [],
   "source": []
  }
 ],
 "metadata": {
  "kernelspec": {
   "display_name": "Python 3",
   "language": "python",
   "name": "python3"
  },
  "language_info": {
   "codemirror_mode": {
    "name": "ipython",
    "version": 3
   },
   "file_extension": ".py",
   "mimetype": "text/x-python",
   "name": "python",
   "nbconvert_exporter": "python",
   "pygments_lexer": "ipython3",
   "version": "3.8.8"
  }
 },
 "nbformat": 4,
 "nbformat_minor": 5
}
